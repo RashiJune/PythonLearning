{
 "cells": [
  {
   "cell_type": "code",
   "execution_count": 3,
   "id": "8be0a4d2",
   "metadata": {},
   "outputs": [],
   "source": [
    "l1=[]"
   ]
  },
  {
   "cell_type": "code",
   "execution_count": 4,
   "id": "e9208533",
   "metadata": {},
   "outputs": [
    {
     "name": "stdout",
     "output_type": "stream",
     "text": [
      "[]\n"
     ]
    }
   ],
   "source": [
    "print(l1)"
   ]
  },
  {
   "cell_type": "code",
   "execution_count": 5,
   "id": "2c4970ba",
   "metadata": {},
   "outputs": [],
   "source": [
    "l2=[10,20,30,40]"
   ]
  },
  {
   "cell_type": "code",
   "execution_count": 6,
   "id": "280f9184",
   "metadata": {},
   "outputs": [
    {
     "name": "stdout",
     "output_type": "stream",
     "text": [
      "[10, 20, 30, 40]\n"
     ]
    }
   ],
   "source": [
    "print(l2)"
   ]
  },
  {
   "cell_type": "code",
   "execution_count": 7,
   "id": "3dfc06e7",
   "metadata": {},
   "outputs": [],
   "source": [
    "l3=[10,2.1,'ayush',10+5j]"
   ]
  },
  {
   "cell_type": "code",
   "execution_count": 8,
   "id": "a223253c",
   "metadata": {},
   "outputs": [
    {
     "name": "stdout",
     "output_type": "stream",
     "text": [
      "[10, 2.1, 'ayush', (10+5j)]\n"
     ]
    }
   ],
   "source": [
    "print(l3)"
   ]
  },
  {
   "cell_type": "code",
   "execution_count": 15,
   "id": "baa143e1",
   "metadata": {},
   "outputs": [
    {
     "name": "stdout",
     "output_type": "stream",
     "text": [
      "Enter the data for the list: [10,20,30,40,50]\n"
     ]
    }
   ],
   "source": [
    "l4=eval(input(\"Enter the data for the list: \"))"
   ]
  },
  {
   "cell_type": "code",
   "execution_count": 16,
   "id": "cf2cd69b",
   "metadata": {},
   "outputs": [
    {
     "name": "stdout",
     "output_type": "stream",
     "text": [
      "[10, 20, 30, 40, 50]\n"
     ]
    }
   ],
   "source": [
    "print(l4)"
   ]
  },
  {
   "cell_type": "code",
   "execution_count": 17,
   "id": "1a95bb26",
   "metadata": {},
   "outputs": [
    {
     "data": {
      "text/plain": [
       "list"
      ]
     },
     "execution_count": 17,
     "metadata": {},
     "output_type": "execute_result"
    }
   ],
   "source": [
    "type(l4)"
   ]
  },
  {
   "cell_type": "code",
   "execution_count": 18,
   "id": "fc5439e5",
   "metadata": {},
   "outputs": [],
   "source": [
    "l5='My name is Ayush Garg'.split()"
   ]
  },
  {
   "cell_type": "code",
   "execution_count": 19,
   "id": "050ecfe1",
   "metadata": {},
   "outputs": [
    {
     "data": {
      "text/plain": [
       "['My', 'name', 'is', 'Ayush', 'Garg']"
      ]
     },
     "execution_count": 19,
     "metadata": {},
     "output_type": "execute_result"
    }
   ],
   "source": [
    "l5"
   ]
  },
  {
   "cell_type": "code",
   "execution_count": 20,
   "id": "925c295d",
   "metadata": {},
   "outputs": [
    {
     "data": {
      "text/plain": [
       "'is'"
      ]
     },
     "execution_count": 20,
     "metadata": {},
     "output_type": "execute_result"
    }
   ],
   "source": [
    "l5[2]"
   ]
  },
  {
   "cell_type": "code",
   "execution_count": 21,
   "id": "8e6665a9",
   "metadata": {},
   "outputs": [
    {
     "data": {
      "text/plain": [
       "'My'"
      ]
     },
     "execution_count": 21,
     "metadata": {},
     "output_type": "execute_result"
    }
   ],
   "source": [
    "l5[-5]"
   ]
  },
  {
   "cell_type": "code",
   "execution_count": 22,
   "id": "647b1eb2",
   "metadata": {},
   "outputs": [
    {
     "data": {
      "text/plain": [
       "['name', 'is', 'Ayush', 'Garg']"
      ]
     },
     "execution_count": 22,
     "metadata": {},
     "output_type": "execute_result"
    }
   ],
   "source": [
    "l5[1:5]"
   ]
  },
  {
   "cell_type": "code",
   "execution_count": 45,
   "id": "07f6cb34",
   "metadata": {},
   "outputs": [
    {
     "data": {
      "text/plain": [
       "['Garg', 'Ayush', 'is', 'name']"
      ]
     },
     "execution_count": 45,
     "metadata": {},
     "output_type": "execute_result"
    }
   ],
   "source": [
    "l5[5:0:-1]"
   ]
  },
  {
   "cell_type": "code",
   "execution_count": 46,
   "id": "2b5a9a12",
   "metadata": {},
   "outputs": [
    {
     "name": "stdout",
     "output_type": "stream",
     "text": [
      "My\n",
      "name\n",
      "is\n",
      "Ayush\n",
      "Garg\n"
     ]
    }
   ],
   "source": [
    "for i in l5:\n",
    "    print(i)"
   ]
  },
  {
   "cell_type": "code",
   "execution_count": 51,
   "id": "8ce66e9a",
   "metadata": {},
   "outputs": [
    {
     "name": "stdout",
     "output_type": "stream",
     "text": [
      "0\n",
      "My\n",
      "1\n",
      "name\n",
      "2\n",
      "is\n",
      "3\n",
      "Ayush\n",
      "4\n",
      "Garg\n"
     ]
    }
   ],
   "source": [
    "i=0\n",
    "while i<len(l5):\n",
    "    print(i)\n",
    "    print(l5[i])\n",
    "    i=i+1"
   ]
  },
  {
   "cell_type": "code",
   "execution_count": 48,
   "id": "5727bfd6",
   "metadata": {},
   "outputs": [
    {
     "data": {
      "text/plain": [
       "5"
      ]
     },
     "execution_count": 48,
     "metadata": {},
     "output_type": "execute_result"
    }
   ],
   "source": [
    "len(l5)"
   ]
  },
  {
   "cell_type": "code",
   "execution_count": 52,
   "id": "87dbb829",
   "metadata": {},
   "outputs": [],
   "source": [
    "l6=l4+l5"
   ]
  },
  {
   "cell_type": "code",
   "execution_count": 53,
   "id": "673d7902",
   "metadata": {},
   "outputs": [
    {
     "name": "stdout",
     "output_type": "stream",
     "text": [
      "[10, 20, 30, 40, 50, 'My', 'name', 'is', 'Ayush', 'Garg']\n"
     ]
    }
   ],
   "source": [
    "print(l6)"
   ]
  },
  {
   "cell_type": "code",
   "execution_count": 54,
   "id": "80e26e4f",
   "metadata": {},
   "outputs": [
    {
     "name": "stdout",
     "output_type": "stream",
     "text": [
      "[10, 20, 30, 40, 50, 'My', 'name', 'is', 'Ayush', 'Garg']\n"
     ]
    }
   ],
   "source": [
    "print(l4+l5)"
   ]
  },
  {
   "cell_type": "code",
   "execution_count": 55,
   "id": "ee67e29e",
   "metadata": {},
   "outputs": [],
   "source": [
    "l1=[10,20,30,40]\n",
    "l2=[50,60]"
   ]
  },
  {
   "cell_type": "code",
   "execution_count": 56,
   "id": "b9b2db50",
   "metadata": {},
   "outputs": [
    {
     "data": {
      "text/plain": [
       "False"
      ]
     },
     "execution_count": 56,
     "metadata": {},
     "output_type": "execute_result"
    }
   ],
   "source": [
    "l1>l2"
   ]
  },
  {
   "cell_type": "code",
   "execution_count": 57,
   "id": "5fbb9cc0",
   "metadata": {},
   "outputs": [
    {
     "data": {
      "text/plain": [
       "False"
      ]
     },
     "execution_count": 57,
     "metadata": {},
     "output_type": "execute_result"
    }
   ],
   "source": [
    "l1>=l2"
   ]
  },
  {
   "cell_type": "code",
   "execution_count": 58,
   "id": "5263e65b",
   "metadata": {},
   "outputs": [
    {
     "data": {
      "text/plain": [
       "True"
      ]
     },
     "execution_count": 58,
     "metadata": {},
     "output_type": "execute_result"
    }
   ],
   "source": [
    "l1<l2"
   ]
  },
  {
   "cell_type": "code",
   "execution_count": 59,
   "id": "22482114",
   "metadata": {},
   "outputs": [
    {
     "data": {
      "text/plain": [
       "True"
      ]
     },
     "execution_count": 59,
     "metadata": {},
     "output_type": "execute_result"
    }
   ],
   "source": [
    "l1<=l2"
   ]
  },
  {
   "cell_type": "code",
   "execution_count": 61,
   "id": "a7a3f166",
   "metadata": {},
   "outputs": [],
   "source": [
    "l1=[1,2,3,4,5]\n",
    "l2=[1,2,3,4,5]"
   ]
  },
  {
   "cell_type": "code",
   "execution_count": 62,
   "id": "e99cf366",
   "metadata": {},
   "outputs": [
    {
     "data": {
      "text/plain": [
       "False"
      ]
     },
     "execution_count": 62,
     "metadata": {},
     "output_type": "execute_result"
    }
   ],
   "source": [
    "l1>l2"
   ]
  },
  {
   "cell_type": "code",
   "execution_count": 63,
   "id": "45de3cbb",
   "metadata": {},
   "outputs": [
    {
     "data": {
      "text/plain": [
       "True"
      ]
     },
     "execution_count": 63,
     "metadata": {},
     "output_type": "execute_result"
    }
   ],
   "source": [
    "l1>=l2"
   ]
  },
  {
   "cell_type": "code",
   "execution_count": 64,
   "id": "124b8dfb",
   "metadata": {},
   "outputs": [
    {
     "data": {
      "text/plain": [
       "False"
      ]
     },
     "execution_count": 64,
     "metadata": {},
     "output_type": "execute_result"
    }
   ],
   "source": [
    "l1<l2"
   ]
  },
  {
   "cell_type": "code",
   "execution_count": 65,
   "id": "bf8de932",
   "metadata": {},
   "outputs": [],
   "source": [
    "l1=['ayush']\n",
    "l2=['ayusl']"
   ]
  },
  {
   "cell_type": "code",
   "execution_count": 66,
   "id": "8be54b24",
   "metadata": {},
   "outputs": [
    {
     "data": {
      "text/plain": [
       "False"
      ]
     },
     "execution_count": 66,
     "metadata": {},
     "output_type": "execute_result"
    }
   ],
   "source": [
    "l1>l2"
   ]
  },
  {
   "cell_type": "code",
   "execution_count": 67,
   "id": "649a499d",
   "metadata": {},
   "outputs": [
    {
     "data": {
      "text/plain": [
       "1"
      ]
     },
     "execution_count": 67,
     "metadata": {},
     "output_type": "execute_result"
    }
   ],
   "source": [
    "len(l1)"
   ]
  },
  {
   "cell_type": "code",
   "execution_count": 68,
   "id": "32711f32",
   "metadata": {},
   "outputs": [],
   "source": [
    "l1=[10,20,30,40,50,10,20,10,50,30,10,20,40,10]"
   ]
  },
  {
   "cell_type": "code",
   "execution_count": 69,
   "id": "a6eec716",
   "metadata": {},
   "outputs": [
    {
     "data": {
      "text/plain": [
       "5"
      ]
     },
     "execution_count": 69,
     "metadata": {},
     "output_type": "execute_result"
    }
   ],
   "source": [
    "l1.count(10)"
   ]
  },
  {
   "cell_type": "code",
   "execution_count": 77,
   "id": "e1ca1e35",
   "metadata": {},
   "outputs": [
    {
     "name": "stdout",
     "output_type": "stream",
     "text": [
      "4\n"
     ]
    }
   ],
   "source": [
    "if 50 in l1:\n",
    "    print(l1.index(50))\n",
    "else:\n",
    "    print('not present')"
   ]
  },
  {
   "cell_type": "code",
   "execution_count": null,
   "id": "4b9ce43a",
   "metadata": {},
   "outputs": [],
   "source": []
  },
  {
   "cell_type": "code",
   "execution_count": 79,
   "id": "8950b785",
   "metadata": {},
   "outputs": [],
   "source": [
    " l1.append(60)"
   ]
  },
  {
   "cell_type": "code",
   "execution_count": 87,
   "id": "7cfe6b02",
   "metadata": {},
   "outputs": [
    {
     "data": {
      "text/plain": [
       "[70, 10, 20, 30, 40, 50, 10, 20, 10, 50, 30, 70, 10, 20, 40, 10, 60, 70]"
      ]
     },
     "execution_count": 87,
     "metadata": {},
     "output_type": "execute_result"
    }
   ],
   "source": [
    "l1"
   ]
  },
  {
   "cell_type": "code",
   "execution_count": 86,
   "id": "43999da5",
   "metadata": {},
   "outputs": [],
   "source": [
    "l1.insert(-30,70)"
   ]
  },
  {
   "cell_type": "code",
   "execution_count": null,
   "id": "aa60d399",
   "metadata": {},
   "outputs": [],
   "source": []
  }
 ],
 "metadata": {
  "kernelspec": {
   "display_name": "Python 3 (ipykernel)",
   "language": "python",
   "name": "python3"
  },
  "language_info": {
   "codemirror_mode": {
    "name": "ipython",
    "version": 3
   },
   "file_extension": ".py",
   "mimetype": "text/x-python",
   "name": "python",
   "nbconvert_exporter": "python",
   "pygments_lexer": "ipython3",
   "version": "3.11.5"
  }
 },
 "nbformat": 4,
 "nbformat_minor": 5
}
