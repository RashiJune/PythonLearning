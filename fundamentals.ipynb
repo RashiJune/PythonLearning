{
 "cells": [
  {
   "cell_type": "code",
   "execution_count": 1,
   "id": "d8742155",
   "metadata": {},
   "outputs": [
    {
     "name": "stdout",
     "output_type": "stream",
     "text": [
      "1\n"
     ]
    }
   ],
   "source": [
    "a=1\n",
    "print (a)"
   ]
  },
  {
   "cell_type": "code",
   "execution_count": 6,
   "id": "5d14e067",
   "metadata": {},
   "outputs": [
    {
     "data": {
      "text/plain": [
       "int"
      ]
     },
     "execution_count": 6,
     "metadata": {},
     "output_type": "execute_result"
    }
   ],
   "source": [
    "type(a)"
   ]
  },
  {
   "cell_type": "code",
   "execution_count": null,
   "id": "46e504aa",
   "metadata": {},
   "outputs": [],
   "source": []
  },
  {
   "cell_type": "code",
   "execution_count": 7,
   "id": "73561a68",
   "metadata": {},
   "outputs": [
    {
     "ename": "SyntaxError",
     "evalue": "invalid decimal literal (94398601.py, line 1)",
     "output_type": "error",
     "traceback": [
      "\u001b[1;36m  Cell \u001b[1;32mIn[7], line 1\u001b[1;36m\u001b[0m\n\u001b[1;33m    9ab=1\u001b[0m\n\u001b[1;37m    ^\u001b[0m\n\u001b[1;31mSyntaxError\u001b[0m\u001b[1;31m:\u001b[0m invalid decimal literal\n"
     ]
    }
   ],
   "source": [
    "9ab=1"
   ]
  },
  {
   "cell_type": "code",
   "execution_count": 8,
   "id": "39485e7d",
   "metadata": {},
   "outputs": [],
   "source": [
    "int =1"
   ]
  },
  {
   "cell_type": "code",
   "execution_count": 10,
   "id": "b6550285",
   "metadata": {},
   "outputs": [
    {
     "name": "stdout",
     "output_type": "stream",
     "text": [
      "1\n"
     ]
    }
   ],
   "source": [
    "print(int)"
   ]
  },
  {
   "cell_type": "code",
   "execution_count": 11,
   "id": "f87c2251",
   "metadata": {},
   "outputs": [],
   "source": [
    "a=123456789987456321321456789"
   ]
  },
  {
   "cell_type": "code",
   "execution_count": 12,
   "id": "52a8bb68",
   "metadata": {},
   "outputs": [
    {
     "name": "stdout",
     "output_type": "stream",
     "text": [
      "123456789987456321321456789\n"
     ]
    }
   ],
   "source": [
    "print(a)"
   ]
  },
  {
   "cell_type": "code",
   "execution_count": 13,
   "id": "e69e9818",
   "metadata": {},
   "outputs": [
    {
     "data": {
      "text/plain": [
       "int"
      ]
     },
     "execution_count": 13,
     "metadata": {},
     "output_type": "execute_result"
    }
   ],
   "source": [
    "type(a)"
   ]
  },
  {
   "cell_type": "code",
   "execution_count": 14,
   "id": "4634c03d",
   "metadata": {},
   "outputs": [
    {
     "data": {
      "text/plain": [
       "2744898798480"
      ]
     },
     "execution_count": 14,
     "metadata": {},
     "output_type": "execute_result"
    }
   ],
   "source": [
    "id(a)"
   ]
  },
  {
   "cell_type": "code",
   "execution_count": 18,
   "id": "a97e477e",
   "metadata": {},
   "outputs": [],
   "source": [
    "oct=0o71"
   ]
  },
  {
   "cell_type": "code",
   "execution_count": 23,
   "id": "81843a21",
   "metadata": {},
   "outputs": [
    {
     "data": {
      "text/plain": [
       "'0b1111'"
      ]
     },
     "execution_count": 23,
     "metadata": {},
     "output_type": "execute_result"
    }
   ],
   "source": [
    "bin(15)"
   ]
  },
  {
   "cell_type": "code",
   "execution_count": 25,
   "id": "5fb4fc88",
   "metadata": {},
   "outputs": [
    {
     "data": {
      "text/plain": [
       "'0xf'"
      ]
     },
     "execution_count": 25,
     "metadata": {},
     "output_type": "execute_result"
    }
   ],
   "source": [
    "hex(15)"
   ]
  },
  {
   "cell_type": "code",
   "execution_count": 3,
   "id": "8e490409",
   "metadata": {},
   "outputs": [
    {
     "data": {
      "text/plain": [
       "'0o71'"
      ]
     },
     "execution_count": 3,
     "metadata": {},
     "output_type": "execute_result"
    }
   ],
   "source": [
    "oct(57)"
   ]
  },
  {
   "cell_type": "code",
   "execution_count": 4,
   "id": "185bbabd",
   "metadata": {},
   "outputs": [],
   "source": [
    "i=1.7"
   ]
  },
  {
   "cell_type": "code",
   "execution_count": 8,
   "id": "40fbb10e",
   "metadata": {},
   "outputs": [],
   "source": [
    "j=12.4444e30"
   ]
  },
  {
   "cell_type": "code",
   "execution_count": 9,
   "id": "abd99648",
   "metadata": {},
   "outputs": [
    {
     "name": "stdout",
     "output_type": "stream",
     "text": [
      "1.7\n"
     ]
    }
   ],
   "source": [
    "print(i)"
   ]
  },
  {
   "cell_type": "code",
   "execution_count": 10,
   "id": "ef815d9f",
   "metadata": {},
   "outputs": [
    {
     "name": "stdout",
     "output_type": "stream",
     "text": [
      "1.24444e+31\n"
     ]
    }
   ],
   "source": [
    "print(j)"
   ]
  },
  {
   "cell_type": "code",
   "execution_count": 11,
   "id": "37bfe4e1",
   "metadata": {},
   "outputs": [],
   "source": [
    "comp=1+3j"
   ]
  },
  {
   "cell_type": "code",
   "execution_count": 13,
   "id": "8bf0b2b4",
   "metadata": {},
   "outputs": [
    {
     "name": "stdout",
     "output_type": "stream",
     "text": [
      "(1+3j)\n"
     ]
    }
   ],
   "source": [
    "print(comp)"
   ]
  },
  {
   "cell_type": "code",
   "execution_count": 15,
   "id": "7225a493",
   "metadata": {},
   "outputs": [
    {
     "name": "stdout",
     "output_type": "stream",
     "text": [
      "1.0\n"
     ]
    }
   ],
   "source": [
    "print(comp.real)"
   ]
  },
  {
   "cell_type": "code",
   "execution_count": 16,
   "id": "15e1d446",
   "metadata": {},
   "outputs": [
    {
     "name": "stdout",
     "output_type": "stream",
     "text": [
      "3.0\n"
     ]
    }
   ],
   "source": [
    "print(comp.imag)"
   ]
  },
  {
   "cell_type": "code",
   "execution_count": 17,
   "id": "39cdb418",
   "metadata": {},
   "outputs": [],
   "source": [
    "a=True\n",
    "b=False"
   ]
  },
  {
   "cell_type": "code",
   "execution_count": 18,
   "id": "87dacd1b",
   "metadata": {},
   "outputs": [
    {
     "name": "stdout",
     "output_type": "stream",
     "text": [
      "True\n"
     ]
    }
   ],
   "source": [
    "print(a)"
   ]
  },
  {
   "cell_type": "code",
   "execution_count": 19,
   "id": "a06234c1",
   "metadata": {},
   "outputs": [
    {
     "name": "stdout",
     "output_type": "stream",
     "text": [
      "False\n"
     ]
    }
   ],
   "source": [
    "print(b)"
   ]
  },
  {
   "cell_type": "code",
   "execution_count": 20,
   "id": "f843c664",
   "metadata": {},
   "outputs": [
    {
     "name": "stdout",
     "output_type": "stream",
     "text": [
      "0\n"
     ]
    }
   ],
   "source": [
    "print(a*b)"
   ]
  },
  {
   "cell_type": "code",
   "execution_count": 21,
   "id": "87a09d0d",
   "metadata": {},
   "outputs": [
    {
     "name": "stdout",
     "output_type": "stream",
     "text": [
      "1\n"
     ]
    }
   ],
   "source": [
    "print(a+b)"
   ]
  },
  {
   "cell_type": "code",
   "execution_count": 22,
   "id": "e0f77bec",
   "metadata": {},
   "outputs": [
    {
     "name": "stdout",
     "output_type": "stream",
     "text": [
      "one and two\n",
      "one\n",
      "and \n",
      "two\n"
     ]
    }
   ],
   "source": [
    "str1='one and two'\n",
    "\n",
    "str2='''one\n",
    "and \n",
    "two'''\n",
    "\n",
    "print(str1)\n",
    "print(str2)"
   ]
  },
  {
   "cell_type": "code",
   "execution_count": 23,
   "id": "65c7c0d8",
   "metadata": {},
   "outputs": [
    {
     "ename": "NameError",
     "evalue": "name 'strx' is not defined",
     "output_type": "error",
     "traceback": [
      "\u001b[1;31m---------------------------------------------------------------------------\u001b[0m",
      "\u001b[1;31mNameError\u001b[0m                                 Traceback (most recent call last)",
      "Cell \u001b[1;32mIn[23], line 1\u001b[0m\n\u001b[1;32m----> 1\u001b[0m strx\n\u001b[0;32m      2\u001b[0m \u001b[38;5;28mprint\u001b[39m(strx)\n",
      "\u001b[1;31mNameError\u001b[0m: name 'strx' is not defined"
     ]
    }
   ],
   "source": [
    "strx\n",
    "print(strx)"
   ]
  },
  {
   "cell_type": "code",
   "execution_count": 25,
   "id": "4952e1d0",
   "metadata": {},
   "outputs": [
    {
     "data": {
      "text/plain": [
       "'b'"
      ]
     },
     "execution_count": 25,
     "metadata": {},
     "output_type": "execute_result"
    }
   ],
   "source": [
    "strt='abcdefghijklmnopqrstuvwxyzz'\n",
    "\n",
    "strt[1]"
   ]
  },
  {
   "cell_type": "code",
   "execution_count": 29,
   "id": "d3a71a66",
   "metadata": {},
   "outputs": [
    {
     "data": {
      "text/plain": [
       "'y'"
      ]
     },
     "execution_count": 29,
     "metadata": {},
     "output_type": "execute_result"
    }
   ],
   "source": [
    "strt[24]"
   ]
  },
  {
   "cell_type": "code",
   "execution_count": 32,
   "id": "68ba0638",
   "metadata": {},
   "outputs": [
    {
     "data": {
      "text/plain": [
       "'a'"
      ]
     },
     "execution_count": 32,
     "metadata": {},
     "output_type": "execute_result"
    }
   ],
   "source": [
    "strt[-27]"
   ]
  },
  {
   "cell_type": "code",
   "execution_count": 34,
   "id": "d634fdde",
   "metadata": {},
   "outputs": [
    {
     "data": {
      "text/plain": [
       "'abcd'"
      ]
     },
     "execution_count": 34,
     "metadata": {},
     "output_type": "execute_result"
    }
   ],
   "source": [
    "strt[0:4]"
   ]
  },
  {
   "cell_type": "code",
   "execution_count": 35,
   "id": "fcb46028",
   "metadata": {},
   "outputs": [
    {
     "data": {
      "text/plain": [
       "'abcdefghijklmnopqrstuvwxyzz'"
      ]
     },
     "execution_count": 35,
     "metadata": {},
     "output_type": "execute_result"
    }
   ],
   "source": [
    "strt[:]"
   ]
  },
  {
   "cell_type": "code",
   "execution_count": 40,
   "id": "a4fd4741",
   "metadata": {},
   "outputs": [
    {
     "data": {
      "text/plain": [
       "''"
      ]
     },
     "execution_count": 40,
     "metadata": {},
     "output_type": "execute_result"
    }
   ],
   "source": [
    "strt[27:23]"
   ]
  },
  {
   "cell_type": "code",
   "execution_count": 41,
   "id": "4f4f1147",
   "metadata": {},
   "outputs": [
    {
     "data": {
      "text/plain": [
       "'acegikmoqsuwyz'"
      ]
     },
     "execution_count": 41,
     "metadata": {},
     "output_type": "execute_result"
    }
   ],
   "source": [
    "strt[::2]"
   ]
  },
  {
   "cell_type": "code",
   "execution_count": 43,
   "id": "d4ae5f36",
   "metadata": {},
   "outputs": [
    {
     "data": {
      "text/plain": [
       "'abcdefghijklmnopqrstuvwxyzzabcdefghijklmnopqrstuvwxyzzabcdefghijklmnopqrstuvwxyzzabcdefghijklmnopqrstuvwxyzzabcdefghijklmnopqrstuvwxyzzabcdefghijklmnopqrstuvwxyzzabcdefghijklmnopqrstuvwxyzzabcdefghijklmnopqrstuvwxyzzabcdefghijklmnopqrstuvwxyzzabcdefghijklmnopqrstuvwxyzz'"
      ]
     },
     "execution_count": 43,
     "metadata": {},
     "output_type": "execute_result"
    }
   ],
   "source": [
    "strt*10"
   ]
  },
  {
   "cell_type": "code",
   "execution_count": 44,
   "id": "5a33e787",
   "metadata": {},
   "outputs": [
    {
     "data": {
      "text/plain": [
       "'abcdefghijklmnopqrstuvwxyzzadsb'"
      ]
     },
     "execution_count": 44,
     "metadata": {},
     "output_type": "execute_result"
    }
   ],
   "source": [
    "strt+'adsb'"
   ]
  },
  {
   "cell_type": "code",
   "execution_count": 45,
   "id": "06e0b57c",
   "metadata": {},
   "outputs": [
    {
     "data": {
      "text/plain": [
       "False"
      ]
     },
     "execution_count": 45,
     "metadata": {},
     "output_type": "execute_result"
    }
   ],
   "source": [
    "bool(0)"
   ]
  },
  {
   "cell_type": "code",
   "execution_count": 46,
   "id": "177e5b56",
   "metadata": {},
   "outputs": [
    {
     "data": {
      "text/plain": [
       "True"
      ]
     },
     "execution_count": 46,
     "metadata": {},
     "output_type": "execute_result"
    }
   ],
   "source": [
    "bool('0')"
   ]
  },
  {
   "cell_type": "code",
   "execution_count": 47,
   "id": "2abb33e7",
   "metadata": {},
   "outputs": [
    {
     "data": {
      "text/plain": [
       "(10+1.1j)"
      ]
     },
     "execution_count": 47,
     "metadata": {},
     "output_type": "execute_result"
    }
   ],
   "source": [
    "complex(10,1.1)"
   ]
  },
  {
   "cell_type": "code",
   "execution_count": 48,
   "id": "bfe48242",
   "metadata": {},
   "outputs": [],
   "source": [
    "i=10\n",
    "j=10\n",
    "k=10"
   ]
  },
  {
   "cell_type": "code",
   "execution_count": 49,
   "id": "3907b15f",
   "metadata": {},
   "outputs": [
    {
     "data": {
      "text/plain": [
       "10"
      ]
     },
     "execution_count": 49,
     "metadata": {},
     "output_type": "execute_result"
    }
   ],
   "source": [
    "i"
   ]
  },
  {
   "cell_type": "code",
   "execution_count": 50,
   "id": "3ba81ed4",
   "metadata": {},
   "outputs": [
    {
     "data": {
      "text/plain": [
       "10"
      ]
     },
     "execution_count": 50,
     "metadata": {},
     "output_type": "execute_result"
    }
   ],
   "source": [
    "j"
   ]
  },
  {
   "cell_type": "code",
   "execution_count": 51,
   "id": "96cc6a82",
   "metadata": {},
   "outputs": [
    {
     "data": {
      "text/plain": [
       "10"
      ]
     },
     "execution_count": 51,
     "metadata": {},
     "output_type": "execute_result"
    }
   ],
   "source": [
    "k"
   ]
  },
  {
   "cell_type": "code",
   "execution_count": 52,
   "id": "9fb16c93",
   "metadata": {},
   "outputs": [
    {
     "data": {
      "text/plain": [
       "140728235627592"
      ]
     },
     "execution_count": 52,
     "metadata": {},
     "output_type": "execute_result"
    }
   ],
   "source": [
    "id(i)"
   ]
  },
  {
   "cell_type": "code",
   "execution_count": 53,
   "id": "eebbe224",
   "metadata": {},
   "outputs": [
    {
     "data": {
      "text/plain": [
       "140728235627592"
      ]
     },
     "execution_count": 53,
     "metadata": {},
     "output_type": "execute_result"
    }
   ],
   "source": [
    "id(j)"
   ]
  },
  {
   "cell_type": "code",
   "execution_count": 54,
   "id": "c0cdf338",
   "metadata": {},
   "outputs": [
    {
     "data": {
      "text/plain": [
       "140728235627592"
      ]
     },
     "execution_count": 54,
     "metadata": {},
     "output_type": "execute_result"
    }
   ],
   "source": [
    "id(k)"
   ]
  },
  {
   "cell_type": "code",
   "execution_count": 1,
   "id": "cda75268",
   "metadata": {},
   "outputs": [],
   "source": [
    "i=10\n",
    "j=11"
   ]
  },
  {
   "cell_type": "code",
   "execution_count": 3,
   "id": "953afc15",
   "metadata": {},
   "outputs": [
    {
     "data": {
      "text/plain": [
       "False"
      ]
     },
     "execution_count": 3,
     "metadata": {},
     "output_type": "execute_result"
    }
   ],
   "source": [
    "i is j"
   ]
  },
  {
   "cell_type": "code",
   "execution_count": 4,
   "id": "40240535",
   "metadata": {},
   "outputs": [],
   "source": [
    "i=11\n",
    "j=11"
   ]
  },
  {
   "cell_type": "code",
   "execution_count": 5,
   "id": "fceb0a37",
   "metadata": {},
   "outputs": [
    {
     "data": {
      "text/plain": [
       "True"
      ]
     },
     "execution_count": 5,
     "metadata": {},
     "output_type": "execute_result"
    }
   ],
   "source": [
    "i is j"
   ]
  },
  {
   "cell_type": "code",
   "execution_count": 6,
   "id": "b5590896",
   "metadata": {},
   "outputs": [],
   "source": [
    "i=275\n",
    "j=275"
   ]
  },
  {
   "cell_type": "code",
   "execution_count": 7,
   "id": "cda7adce",
   "metadata": {},
   "outputs": [
    {
     "data": {
      "text/plain": [
       "False"
      ]
     },
     "execution_count": 7,
     "metadata": {},
     "output_type": "execute_result"
    }
   ],
   "source": [
    "i is j"
   ]
  },
  {
   "cell_type": "code",
   "execution_count": 20,
   "id": "0a80d67b",
   "metadata": {},
   "outputs": [
    {
     "name": "stdout",
     "output_type": "stream",
     "text": [
      "<class 'list'>\n",
      "<class 'bytearray'>\n"
     ]
    }
   ],
   "source": [
    "by=[1,2,3,4,5]\n",
    "print(type(by))\n",
    "by=bytearray(by)\n",
    "print(type(by))"
   ]
  },
  {
   "cell_type": "code",
   "execution_count": 18,
   "id": "31c94adc",
   "metadata": {},
   "outputs": [],
   "source": [
    "by[3]=10"
   ]
  },
  {
   "cell_type": "code",
   "execution_count": 21,
   "id": "0d5f0892",
   "metadata": {},
   "outputs": [],
   "source": [
    "l=[]"
   ]
  },
  {
   "cell_type": "code",
   "execution_count": 22,
   "id": "f04d0f4b",
   "metadata": {},
   "outputs": [
    {
     "data": {
      "text/plain": [
       "list"
      ]
     },
     "execution_count": 22,
     "metadata": {},
     "output_type": "execute_result"
    }
   ],
   "source": [
    "type(l)"
   ]
  },
  {
   "cell_type": "code",
   "execution_count": 24,
   "id": "b8387c39",
   "metadata": {},
   "outputs": [
    {
     "name": "stdout",
     "output_type": "stream",
     "text": [
      "1791409115904\n",
      "1791409115904\n"
     ]
    }
   ],
   "source": [
    "l=['10',20,30]\n",
    "print(id(l))\n",
    "l.append(50)\n",
    "print(id(l))"
   ]
  },
  {
   "cell_type": "code",
   "execution_count": 25,
   "id": "308a0d58",
   "metadata": {},
   "outputs": [],
   "source": [
    "l[2]=55"
   ]
  },
  {
   "cell_type": "code",
   "execution_count": 26,
   "id": "99e08de9",
   "metadata": {},
   "outputs": [
    {
     "data": {
      "text/plain": [
       "['10', 20, 55, 50]"
      ]
     },
     "execution_count": 26,
     "metadata": {},
     "output_type": "execute_result"
    }
   ],
   "source": [
    "l"
   ]
  },
  {
   "cell_type": "code",
   "execution_count": 27,
   "id": "ac1d463c",
   "metadata": {},
   "outputs": [
    {
     "ename": "IndexError",
     "evalue": "list assignment index out of range",
     "output_type": "error",
     "traceback": [
      "\u001b[1;31m---------------------------------------------------------------------------\u001b[0m",
      "\u001b[1;31mIndexError\u001b[0m                                Traceback (most recent call last)",
      "Cell \u001b[1;32mIn[27], line 1\u001b[0m\n\u001b[1;32m----> 1\u001b[0m l[\u001b[38;5;241m10\u001b[39m]\u001b[38;5;241m=\u001b[39m\u001b[38;5;241m5\u001b[39m\n",
      "\u001b[1;31mIndexError\u001b[0m: list assignment index out of range"
     ]
    }
   ],
   "source": [
    "l[10]=5"
   ]
  },
  {
   "cell_type": "code",
   "execution_count": 28,
   "id": "e32a6c17",
   "metadata": {},
   "outputs": [
    {
     "data": {
      "text/plain": [
       "[20, 55]"
      ]
     },
     "execution_count": 28,
     "metadata": {},
     "output_type": "execute_result"
    }
   ],
   "source": [
    "l[1:3]"
   ]
  },
  {
   "cell_type": "code",
   "execution_count": 29,
   "id": "9b4f4886",
   "metadata": {},
   "outputs": [],
   "source": [
    "l=l*3"
   ]
  },
  {
   "cell_type": "code",
   "execution_count": 30,
   "id": "464ed65f",
   "metadata": {},
   "outputs": [
    {
     "data": {
      "text/plain": [
       "['10', 20, 55, 50, '10', 20, 55, 50, '10', 20, 55, 50]"
      ]
     },
     "execution_count": 30,
     "metadata": {},
     "output_type": "execute_result"
    }
   ],
   "source": [
    "l"
   ]
  },
  {
   "cell_type": "code",
   "execution_count": 34,
   "id": "5d0999b6",
   "metadata": {},
   "outputs": [],
   "source": [
    "r=range(5,10)"
   ]
  },
  {
   "cell_type": "code",
   "execution_count": 35,
   "id": "bb0711fc",
   "metadata": {},
   "outputs": [
    {
     "data": {
      "text/plain": [
       "range(5, 10)"
      ]
     },
     "execution_count": 35,
     "metadata": {},
     "output_type": "execute_result"
    }
   ],
   "source": [
    "r"
   ]
  },
  {
   "cell_type": "code",
   "execution_count": 36,
   "id": "f8ae68ba",
   "metadata": {},
   "outputs": [
    {
     "name": "stdout",
     "output_type": "stream",
     "text": [
      "5\n",
      "6\n",
      "7\n",
      "8\n",
      "9\n"
     ]
    }
   ],
   "source": [
    "for i in r :\n",
    "    print(i)"
   ]
  },
  {
   "cell_type": "code",
   "execution_count": 37,
   "id": "409dc94a",
   "metadata": {},
   "outputs": [],
   "source": [
    "d={1:'1',2:'2',3:'3'}"
   ]
  },
  {
   "cell_type": "code",
   "execution_count": 38,
   "id": "1b33d0b1",
   "metadata": {},
   "outputs": [
    {
     "name": "stdout",
     "output_type": "stream",
     "text": [
      "{1: '1', 2: '2', 3: '3'}\n"
     ]
    }
   ],
   "source": [
    "print(d)"
   ]
  },
  {
   "cell_type": "code",
   "execution_count": 39,
   "id": "19476fc8",
   "metadata": {},
   "outputs": [],
   "source": [
    "d[1]='5'"
   ]
  },
  {
   "cell_type": "code",
   "execution_count": 40,
   "id": "478776c4",
   "metadata": {},
   "outputs": [
    {
     "data": {
      "text/plain": [
       "{1: '5', 2: '2', 3: '3'}"
      ]
     },
     "execution_count": 40,
     "metadata": {},
     "output_type": "execute_result"
    }
   ],
   "source": [
    "d"
   ]
  },
  {
   "cell_type": "code",
   "execution_count": 41,
   "id": "e305cb1e",
   "metadata": {},
   "outputs": [],
   "source": [
    "d[100]=5"
   ]
  },
  {
   "cell_type": "code",
   "execution_count": 42,
   "id": "69cdedc2",
   "metadata": {},
   "outputs": [
    {
     "data": {
      "text/plain": [
       "{1: '5', 2: '2', 3: '3', 100: 5}"
      ]
     },
     "execution_count": 42,
     "metadata": {},
     "output_type": "execute_result"
    }
   ],
   "source": [
    "d"
   ]
  },
  {
   "cell_type": "code",
   "execution_count": 52,
   "id": "def45565",
   "metadata": {},
   "outputs": [
    {
     "name": "stdout",
     "output_type": "stream",
     "text": [
      "1.4285714285714286\n",
      "1\n"
     ]
    }
   ],
   "source": [
    "a=10\n",
    "b=7\n",
    "print(a/b)\n",
    "print(a//b)"
   ]
  },
  {
   "cell_type": "code",
   "execution_count": 53,
   "id": "d261b93c",
   "metadata": {},
   "outputs": [
    {
     "name": "stdout",
     "output_type": "stream",
     "text": [
      "10000000\n"
     ]
    }
   ],
   "source": [
    "print(10**b)"
   ]
  },
  {
   "cell_type": "code",
   "execution_count": 54,
   "id": "bbb9e4e5",
   "metadata": {},
   "outputs": [
    {
     "data": {
      "text/plain": [
       "'ayushgargayushgargayushgarg'"
      ]
     },
     "execution_count": 54,
     "metadata": {},
     "output_type": "execute_result"
    }
   ],
   "source": [
    "3*'ayushgarg'"
   ]
  },
  {
   "cell_type": "code",
   "execution_count": 55,
   "id": "d88f15d5",
   "metadata": {},
   "outputs": [
    {
     "data": {
      "text/plain": [
       "97"
      ]
     },
     "execution_count": 55,
     "metadata": {},
     "output_type": "execute_result"
    }
   ],
   "source": [
    "ord('a')"
   ]
  },
  {
   "cell_type": "code",
   "execution_count": 58,
   "id": "8e9f43b4",
   "metadata": {},
   "outputs": [
    {
     "data": {
      "text/plain": [
       "'Z'"
      ]
     },
     "execution_count": 58,
     "metadata": {},
     "output_type": "execute_result"
    }
   ],
   "source": [
    "chr(90)"
   ]
  },
  {
   "cell_type": "code",
   "execution_count": 62,
   "id": "16b51f63",
   "metadata": {},
   "outputs": [],
   "source": [
    "if(a==b):\n",
    "    print(True)"
   ]
  },
  {
   "cell_type": "code",
   "execution_count": 65,
   "id": "b2b6f49e",
   "metadata": {},
   "outputs": [
    {
     "data": {
      "text/plain": [
       "False"
      ]
     },
     "execution_count": 65,
     "metadata": {},
     "output_type": "execute_result"
    }
   ],
   "source": [
    "10<20<30>40"
   ]
  },
  {
   "cell_type": "code",
   "execution_count": 1,
   "id": "ecd7b18b",
   "metadata": {},
   "outputs": [
    {
     "data": {
      "text/plain": [
       "0"
      ]
     },
     "execution_count": 1,
     "metadata": {},
     "output_type": "execute_result"
    }
   ],
   "source": [
    "10 and 0"
   ]
  },
  {
   "cell_type": "code",
   "execution_count": 3,
   "id": "cba0c879",
   "metadata": {},
   "outputs": [
    {
     "data": {
      "text/plain": [
       "False"
      ]
     },
     "execution_count": 3,
     "metadata": {},
     "output_type": "execute_result"
    }
   ],
   "source": [
    "not 10"
   ]
  },
  {
   "cell_type": "code",
   "execution_count": 5,
   "id": "5d543003",
   "metadata": {},
   "outputs": [
    {
     "data": {
      "text/plain": [
       "14"
      ]
     },
     "execution_count": 5,
     "metadata": {},
     "output_type": "execute_result"
    }
   ],
   "source": [
    "10 ^ 4"
   ]
  },
  {
   "cell_type": "code",
   "execution_count": 6,
   "id": "1e0f7b8a",
   "metadata": {},
   "outputs": [
    {
     "data": {
      "text/plain": [
       "10"
      ]
     },
     "execution_count": 6,
     "metadata": {},
     "output_type": "execute_result"
    }
   ],
   "source": [
    "++10"
   ]
  },
  {
   "cell_type": "code",
   "execution_count": 7,
   "id": "0054ed84",
   "metadata": {},
   "outputs": [
    {
     "data": {
      "text/plain": [
       "10"
      ]
     },
     "execution_count": 7,
     "metadata": {},
     "output_type": "execute_result"
    }
   ],
   "source": [
    "--10"
   ]
  },
  {
   "cell_type": "code",
   "execution_count": 8,
   "id": "4b92d515",
   "metadata": {},
   "outputs": [
    {
     "data": {
      "text/plain": [
       "-10"
      ]
     },
     "execution_count": 8,
     "metadata": {},
     "output_type": "execute_result"
    }
   ],
   "source": [
    "-10"
   ]
  },
  {
   "cell_type": "code",
   "execution_count": 9,
   "id": "6e475900",
   "metadata": {},
   "outputs": [
    {
     "data": {
      "text/plain": [
       "20"
      ]
     },
     "execution_count": 9,
     "metadata": {},
     "output_type": "execute_result"
    }
   ],
   "source": [
    "--10++10"
   ]
  },
  {
   "cell_type": "code",
   "execution_count": 16,
   "id": "436dc71f",
   "metadata": {},
   "outputs": [],
   "source": [
    "a=10"
   ]
  },
  {
   "cell_type": "code",
   "execution_count": 18,
   "id": "f8cc1801",
   "metadata": {},
   "outputs": [],
   "source": [
    "a+=10"
   ]
  },
  {
   "cell_type": "code",
   "execution_count": 19,
   "id": "9ef36e73",
   "metadata": {},
   "outputs": [
    {
     "name": "stdout",
     "output_type": "stream",
     "text": [
      "20\n"
     ]
    }
   ],
   "source": [
    "print(a)"
   ]
  },
  {
   "cell_type": "code",
   "execution_count": 20,
   "id": "8887b56e",
   "metadata": {},
   "outputs": [],
   "source": [
    "b=10"
   ]
  },
  {
   "cell_type": "code",
   "execution_count": 22,
   "id": "c283dd9e",
   "metadata": {},
   "outputs": [
    {
     "data": {
      "text/plain": [
       "10"
      ]
     },
     "execution_count": 22,
     "metadata": {},
     "output_type": "execute_result"
    }
   ],
   "source": [
    "a if a<b else b"
   ]
  },
  {
   "cell_type": "code",
   "execution_count": 23,
   "id": "ee66fb38",
   "metadata": {},
   "outputs": [
    {
     "data": {
      "text/plain": [
       "True"
      ]
     },
     "execution_count": 23,
     "metadata": {},
     "output_type": "execute_result"
    }
   ],
   "source": [
    "10 in [10,20,30]"
   ]
  },
  {
   "cell_type": "code",
   "execution_count": 25,
   "id": "298869e2",
   "metadata": {},
   "outputs": [
    {
     "data": {
      "text/plain": [
       "True"
      ]
     },
     "execution_count": 25,
     "metadata": {},
     "output_type": "execute_result"
    }
   ],
   "source": [
    "10 in range(11)"
   ]
  },
  {
   "cell_type": "code",
   "execution_count": 30,
   "id": "dbf4afec",
   "metadata": {},
   "outputs": [
    {
     "data": {
      "text/plain": [
       "True"
      ]
     },
     "execution_count": 30,
     "metadata": {},
     "output_type": "execute_result"
    }
   ],
   "source": [
    "'1' in ('1,2,3,4')"
   ]
  },
  {
   "cell_type": "code",
   "execution_count": 31,
   "id": "cae7ded2",
   "metadata": {},
   "outputs": [
    {
     "data": {
      "text/plain": [
       "['__doc__',\n",
       " '__loader__',\n",
       " '__name__',\n",
       " '__package__',\n",
       " '__spec__',\n",
       " 'acos',\n",
       " 'acosh',\n",
       " 'asin',\n",
       " 'asinh',\n",
       " 'atan',\n",
       " 'atan2',\n",
       " 'atanh',\n",
       " 'cbrt',\n",
       " 'ceil',\n",
       " 'comb',\n",
       " 'copysign',\n",
       " 'cos',\n",
       " 'cosh',\n",
       " 'degrees',\n",
       " 'dist',\n",
       " 'e',\n",
       " 'erf',\n",
       " 'erfc',\n",
       " 'exp',\n",
       " 'exp2',\n",
       " 'expm1',\n",
       " 'fabs',\n",
       " 'factorial',\n",
       " 'floor',\n",
       " 'fmod',\n",
       " 'frexp',\n",
       " 'fsum',\n",
       " 'gamma',\n",
       " 'gcd',\n",
       " 'hypot',\n",
       " 'inf',\n",
       " 'isclose',\n",
       " 'isfinite',\n",
       " 'isinf',\n",
       " 'isnan',\n",
       " 'isqrt',\n",
       " 'lcm',\n",
       " 'ldexp',\n",
       " 'lgamma',\n",
       " 'log',\n",
       " 'log10',\n",
       " 'log1p',\n",
       " 'log2',\n",
       " 'modf',\n",
       " 'nan',\n",
       " 'nextafter',\n",
       " 'perm',\n",
       " 'pi',\n",
       " 'pow',\n",
       " 'prod',\n",
       " 'radians',\n",
       " 'remainder',\n",
       " 'sin',\n",
       " 'sinh',\n",
       " 'sqrt',\n",
       " 'tan',\n",
       " 'tanh',\n",
       " 'tau',\n",
       " 'trunc',\n",
       " 'ulp']"
      ]
     },
     "execution_count": 31,
     "metadata": {},
     "output_type": "execute_result"
    }
   ],
   "source": [
    "import math\n",
    "dir(math)"
   ]
  },
  {
   "cell_type": "code",
   "execution_count": null,
   "id": "ec43f5dd",
   "metadata": {},
   "outputs": [],
   "source": []
  }
 ],
 "metadata": {
  "kernelspec": {
   "display_name": "Python 3 (ipykernel)",
   "language": "python",
   "name": "python3"
  },
  "language_info": {
   "codemirror_mode": {
    "name": "ipython",
    "version": 3
   },
   "file_extension": ".py",
   "mimetype": "text/x-python",
   "name": "python",
   "nbconvert_exporter": "python",
   "pygments_lexer": "ipython3",
   "version": "3.11.5"
  }
 },
 "nbformat": 4,
 "nbformat_minor": 5
}
